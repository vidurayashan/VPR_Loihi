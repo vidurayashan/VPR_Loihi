{
 "cells": [
  {
   "cell_type": "code",
   "execution_count": 1,
   "metadata": {},
   "outputs": [],
   "source": [
    "# Experiment 1: Visual Place Recognition with Positive Transformation\n",
    "# Dataset: GardensPointWalking (day_left vs night_right)\n",
    "# Feature Descriptors: DELF-HDC\n",
    "# Descriptor Dimensions: 4096\n",
    "# Transformation: Positive shift with normalization\n",
    "# Purpose: Evaluate impact of positive transformation on VPR performance"
   ]
  },
  {
   "cell_type": "code",
   "execution_count": 2,
   "metadata": {},
   "outputs": [
    {
     "name": "stderr",
     "output_type": "stream",
     "text": [
      "c:\\Users\\21361535\\AppData\\Local\\anaconda3\\envs\\lava3\\lib\\site-packages\\lava\\utils\\profiler.py:16: UserWarning: Loihi2HWProfiler could not be imported. Currently no profiler is available.\n",
      "  warnings.warn(\"Loihi2HWProfiler could not be imported. \"\n"
     ]
    }
   ],
   "source": [
    "from scipy.io import loadmat, savemat\n",
    "from scipy.linalg import orth\n",
    "import numpy as np\n",
    "import faiss\n",
    "from scipy.spatial.distance import cdist\n",
    "import pandas as pd\n",
    "from tqdm import tqdm\n",
    "from sklearn.preprocessing import Normalizer\n",
    "import matplotlib.pyplot as plt\n",
    "import gc\n",
    "import sys\n",
    "import os\n",
    "\n",
    "sys.path.append(os.path.abspath(os.path.join('..', 'lib')))\n",
    "\n",
    "from randn2 import randn2 \n",
    "import peer_functions as peer\n",
    "from dot_product import CPUDotProduct, LoihiDotProductSimulationPositive, CPUDotProductPositive\n",
    "from dot_product import ScaleQuery, ScaleDatabase\n",
    "\n",
    "import math\n",
    "from tqdm import tqdm\n",
    "os.environ['OPENBLAS_NUM_THREADS'] = '1'"
   ]
  },
  {
   "cell_type": "code",
   "execution_count": 3,
   "metadata": {},
   "outputs": [],
   "source": [
    "def calculate_evaluation_metrics(similarity_matrix, ground_truth):\n",
    "    \"\"\"\n",
    "    Calculate evaluation metrics for place recognition results\n",
    "    \n",
    "    Args:\n",
    "        similarity_matrix: Matrix of similarity scores between queries and database\n",
    "        ground_truth: Ground truth data containing GThard and GTsoft\n",
    "        \n",
    "    Returns:\n",
    "        dict: Dictionary containing recalls, precision, recall curves and AUC\n",
    "    \"\"\"\n",
    "    # Get candidate selections\n",
    "    ids_pos = peer.directCandSel(similarity_matrix)\n",
    "    \n",
    "    # Calculate recall values\n",
    "    recalls = peer.getRecallAtKVector(ids_pos, ground_truth[\"GT\"])\n",
    "    \n",
    "    # Calculate precision-recall curves and AUC\n",
    "    [R, P] = peer.createPR(-similarity_matrix, \n",
    "                          ground_truth['GT'][\"GThard\"][0][0], \n",
    "                          ground_truth['GT'][\"GTsoft\"][0][0])\n",
    "    auc = np.trapz(P, R)\n",
    "    \n",
    "    return {\n",
    "        'recalls': recalls,\n",
    "        'precision': P,\n",
    "        'recall': R,\n",
    "        'auc': auc\n",
    "    }\n"
   ]
  },
  {
   "cell_type": "code",
   "execution_count": 4,
   "metadata": {},
   "outputs": [],
   "source": [
    "D1    = loadmat(\"../datasets/descriptors/GardensPointWalking/day_left/delf_hdc_4096_ortho_sigma_nx5ny7.mat\")['Y']\n",
    "D2    = loadmat(\"../datasets/descriptors/GardensPointWalking/night_right/delf_hdc_4096_ortho_sigma_nx5ny7.mat\")['Y']\n",
    "\n",
    "g_truth = loadmat(\"../datasets/ground_truth/GardensPointWalking/day_left--night_right/gt.mat\")"
   ]
  },
  {
   "cell_type": "code",
   "execution_count": 5,
   "metadata": {},
   "outputs": [
    {
     "name": "stdout",
     "output_type": "stream",
     "text": [
      "(200, 4096) (2, 2)\n",
      "[[ 30.0405407  -29.0936718 ]\n",
      " [ 15.35739326 -46.08417892]]\n",
      "[[ 32.04243851 -26.73787308]\n",
      " [ 13.12259483 -33.11369705]]\n"
     ]
    }
   ],
   "source": [
    "D1_small = D1[0:2,:2].reshape(2,-1)\n",
    "D2_small = D2[0:2,:2].reshape(2,-1)\n",
    "\n",
    "print(D1.shape, D1_small.shape)\n",
    "print(D1_small)\n",
    "print(D2_small)\n",
    "\n"
   ]
  },
  {
   "cell_type": "code",
   "execution_count": 6,
   "metadata": {},
   "outputs": [
    {
     "name": "stdout",
     "output_type": "stream",
     "text": [
      "[[ 32.04243851 -26.73787308]\n",
      " [ 13.12259483 -33.11369705]] [[ 32.04243851 -26.73787308]\n",
      " [ 13.12259483 -33.11369705]]\n",
      "mu1 :\n",
      "[ 22.58251667 -29.92578506]\n",
      "[[ 0.94763822  0.3193459 ]\n",
      " [-0.94763822 -0.3193459 ]] [[ 0.94763822  0.3193459 ]\n",
      " [-0.94763822 -0.3193459 ]]\n",
      "scaled_dbVectors :\n",
      "[[ 0.94763822  0.3193459 ]\n",
      " [-0.94763822 -0.3193459 ]]\n",
      "scaled_queryVectors :\n",
      "[[ 0.94763822  0.3193459 ]\n",
      " [-0.94763822 -0.3193459 ]]\n"
     ]
    }
   ],
   "source": [
    "dot = CPUDotProduct(D2_small, D2_small)\n",
    "\n",
    "DD = dot.run()\n",
    "\n",
    "# metrics = calculate_evaluation_metrics(DD, g_truth)\n",
    "# print(f\"AUC: {metrics['auc']}\")\n",
    "\n",
    "# cpu_auc = metrics['auc']\n"
   ]
  },
  {
   "cell_type": "code",
   "execution_count": 7,
   "metadata": {},
   "outputs": [
    {
     "data": {
      "text/plain": [
       "array([[0., 2.],\n",
       "       [2., 0.]])"
      ]
     },
     "execution_count": 7,
     "metadata": {},
     "output_type": "execute_result"
    }
   ],
   "source": [
    "DD"
   ]
  },
  {
   "cell_type": "markdown",
   "metadata": {},
   "source": [
    "## Positive Transformation"
   ]
  },
  {
   "cell_type": "code",
   "execution_count": 8,
   "metadata": {},
   "outputs": [],
   "source": [
    "constant = 1\n",
    "\n",
    "dot = CPUDotProductPositive(D1_small, D2_small, constant)\n"
   ]
  },
  {
   "cell_type": "code",
   "execution_count": 9,
   "metadata": {},
   "outputs": [
    {
     "name": "stdout",
     "output_type": "stream",
     "text": [
      "mu1 :\n",
      "[ 22.69896698 -37.58892536]\n",
      "transform_dbVectors :\n",
      "[[0.68549215 0.72808001]\n",
      " [0.81801889 0.57519135]]\n",
      "transform_queryVectors :\n",
      "[[0.68495069 0.72858942]\n",
      " [0.06592738 0.99782442]]\n"
     ]
    }
   ],
   "source": [
    "DD = dot.run()"
   ]
  },
  {
   "cell_type": "code",
   "execution_count": 10,
   "metadata": {},
   "outputs": [
    {
     "data": {
      "text/plain": [
       "array([[2.76338125e-07, 2.06190564e-02],\n",
       "       [2.28311278e-01, 3.72130177e-01]])"
      ]
     },
     "execution_count": 10,
     "metadata": {},
     "output_type": "execute_result"
    }
   ],
   "source": [
    "DD"
   ]
  },
  {
   "cell_type": "code",
   "execution_count": 11,
   "metadata": {},
   "outputs": [],
   "source": [
    "# constant = 0\n",
    "\n",
    "dot = LoihiDotProductSimulationPositive(D1_small, D2_small, constant)"
   ]
  },
  {
   "cell_type": "code",
   "execution_count": 12,
   "metadata": {},
   "outputs": [
    {
     "name": "stdout",
     "output_type": "stream",
     "text": [
      "mu1 :\n",
      "[ 22.69896698 -37.58892536]\n",
      "transform_dbVectors :\n",
      "[[34.27460773 36.40400067]\n",
      " [40.90094459 28.75956765]]\n",
      "transform_queryVectors :\n",
      "[[34.24753473 36.42947111]\n",
      " [ 3.29636902 49.89122118]]\n"
     ]
    },
    {
     "name": "stderr",
     "output_type": "stream",
     "text": [
      "100%|██████████| 2/2 [00:00<00:00, 21.79it/s]\n"
     ]
    },
    {
     "name": "stdout",
     "output_type": "stream",
     "text": [
      "init_v :\n",
      "[-14.752465271890884, -12.570528894218633]\n",
      "init_v :\n",
      "[-45.703630980326786, 0.8912211845544888]\n"
     ]
    }
   ],
   "source": [
    "DD = dot.run()"
   ]
  },
  {
   "cell_type": "code",
   "execution_count": 13,
   "metadata": {},
   "outputs": [
    {
     "data": {
      "text/plain": [
       "array([[-2509.53125 , -2495.65625 ],\n",
       "       [-1923.46875 , -1603.484375]])"
      ]
     },
     "execution_count": 13,
     "metadata": {},
     "output_type": "execute_result"
    }
   ],
   "source": [
    "DD"
   ]
  },
  {
   "cell_type": "code",
   "execution_count": null,
   "metadata": {},
   "outputs": [],
   "source": []
  },
  {
   "cell_type": "code",
   "execution_count": null,
   "metadata": {},
   "outputs": [],
   "source": []
  }
 ],
 "metadata": {
  "kernelspec": {
   "display_name": "lava3",
   "language": "python",
   "name": "python3"
  },
  "language_info": {
   "codemirror_mode": {
    "name": "ipython",
    "version": 3
   },
   "file_extension": ".py",
   "mimetype": "text/x-python",
   "name": "python",
   "nbconvert_exporter": "python",
   "pygments_lexer": "ipython3",
   "version": "3.8.20"
  }
 },
 "nbformat": 4,
 "nbformat_minor": 2
}
